{
 "cells": [
  {
   "cell_type": "code",
   "execution_count": 4,
   "metadata": {},
   "outputs": [],
   "source": [
    "# Create code to answer each of the following questions.\n",
    "# Hint: You will need multiple target URLs and multiple API requests.\n",
    "\n",
    "# Dependencies\n",
    "import requests\n",
    "import json\n",
    "\n",
    "# Retrieve Google API key from config.py\n",
    "from config import gkey\n",
    "\n",
    "url = \"https://maps.googleapis.com/maps/api/geocode/json?&key=\" + gkey"
   ]
  },
  {
   "cell_type": "code",
   "execution_count": 7,
   "metadata": {},
   "outputs": [
    {
     "data": {
      "text/plain": [
       "{'results': [{'address_components': [{'long_name': 'Seattle',\n",
       "     'short_name': 'Seattle',\n",
       "     'types': ['locality', 'political']},\n",
       "    {'long_name': 'King County',\n",
       "     'short_name': 'King County',\n",
       "     'types': ['administrative_area_level_2', 'political']},\n",
       "    {'long_name': 'Washington',\n",
       "     'short_name': 'WA',\n",
       "     'types': ['administrative_area_level_1', 'political']},\n",
       "    {'long_name': 'United States',\n",
       "     'short_name': 'US',\n",
       "     'types': ['country', 'political']}],\n",
       "   'formatted_address': 'Seattle, WA, USA',\n",
       "   'geometry': {'bounds': {'northeast': {'lat': 47.734145,\n",
       "      'lng': -122.2244331},\n",
       "     'southwest': {'lat': 47.4919119, 'lng': -122.4596959}},\n",
       "    'location': {'lat': 47.6062095, 'lng': -122.3320708},\n",
       "    'location_type': 'APPROXIMATE',\n",
       "    'viewport': {'northeast': {'lat': 47.734145, 'lng': -122.2244331},\n",
       "     'southwest': {'lat': 47.4919119, 'lng': -122.4596959}}},\n",
       "   'place_id': 'ChIJVTPokywQkFQRmtVEaUZlJRA',\n",
       "   'types': ['locality', 'political']}],\n",
       " 'status': 'OK'}"
      ]
     },
     "execution_count": 7,
     "metadata": {},
     "output_type": "execute_result"
    }
   ],
   "source": [
    "# 1. What are the geocoordinates (latitude/longitude) of Seattle, Washington?\n",
    "address = \"Seattle, WA\"\n",
    "seattle_url = url + '&address=' + address\n",
    "seattle_data = requests.get(seattle_url).json()\n",
    "seattle_data\n"
   ]
  },
  {
   "cell_type": "code",
   "execution_count": 10,
   "metadata": {},
   "outputs": [
    {
     "data": {
      "text/plain": [
       "{'lat': 47.6062095, 'lng': -122.3320708}"
      ]
     },
     "execution_count": 10,
     "metadata": {},
     "output_type": "execute_result"
    }
   ],
   "source": [
    "seattle_data['results'][0]['geometry']['location']"
   ]
  },
  {
   "cell_type": "code",
   "execution_count": 12,
   "metadata": {},
   "outputs": [
    {
     "data": {
      "text/plain": [
       "{'results': [{'address_components': [{'long_name': '1600',\n",
       "     'short_name': '1600',\n",
       "     'types': ['street_number']},\n",
       "    {'long_name': 'Pennsylvania Avenue Northwest',\n",
       "     'short_name': 'Pennsylvania Avenue NW',\n",
       "     'types': ['route']},\n",
       "    {'long_name': 'Northwest Washington',\n",
       "     'short_name': 'Northwest Washington',\n",
       "     'types': ['neighborhood', 'political']},\n",
       "    {'long_name': 'Washington',\n",
       "     'short_name': 'Washington',\n",
       "     'types': ['locality', 'political']},\n",
       "    {'long_name': 'District of Columbia',\n",
       "     'short_name': 'DC',\n",
       "     'types': ['administrative_area_level_1', 'political']},\n",
       "    {'long_name': 'United States',\n",
       "     'short_name': 'US',\n",
       "     'types': ['country', 'political']},\n",
       "    {'long_name': '20500', 'short_name': '20500', 'types': ['postal_code']}],\n",
       "   'formatted_address': '1600 Pennsylvania Avenue NW, Washington, DC 20500, USA',\n",
       "   'geometry': {'bounds': {'northeast': {'lat': 38.8979044,\n",
       "      'lng': -77.0355124},\n",
       "     'southwest': {'lat': 38.8973063, 'lng': -77.03795749999999}},\n",
       "    'location': {'lat': 38.8976633, 'lng': -77.0365739},\n",
       "    'location_type': 'ROOFTOP',\n",
       "    'viewport': {'northeast': {'lat': 38.8989543302915,\n",
       "      'lng': -77.03538596970849},\n",
       "     'southwest': {'lat': 38.8962563697085, 'lng': -77.0380839302915}}},\n",
       "   'place_id': 'ChIJGVtI4by3t4kRr51d_Qm_x58',\n",
       "   'types': ['establishment', 'point_of_interest', 'premise']}],\n",
       " 'status': 'OK'}"
      ]
     },
     "execution_count": 12,
     "metadata": {},
     "output_type": "execute_result"
    }
   ],
   "source": [
    "# 2. What are the geocoordinates (latitude/longitude) of The White House?\n",
    "address = \"1600%20Pennsylvania%20Avenue%20Washington%20DC\"\n",
    "white_house_url = url + '&address=' + address\n",
    "white_house_data = requests.get(white_house_url).json()\n",
    "white_house_data"
   ]
  },
  {
   "cell_type": "code",
   "execution_count": 13,
   "metadata": {},
   "outputs": [
    {
     "data": {
      "text/plain": [
       "{'lat': 38.8976633, 'lng': -77.0365739}"
      ]
     },
     "execution_count": 13,
     "metadata": {},
     "output_type": "execute_result"
    }
   ],
   "source": [
    "white_house_data['results'][0]['geometry']['location']"
   ]
  },
  {
   "cell_type": "code",
   "execution_count": null,
   "metadata": {
    "collapsed": true
   },
   "outputs": [],
   "source": [
    "# 3. Find the name and address of a bike store in Seattle, Washington.\n",
    "#    Hint: See https://developers.google.com/places/web-service/supported_types"
   ]
  },
  {
   "cell_type": "code",
   "execution_count": null,
   "metadata": {
    "collapsed": true
   },
   "outputs": [],
   "source": [
    "# 4. Find a balloon store near the White House."
   ]
  },
  {
   "cell_type": "code",
   "execution_count": null,
   "metadata": {
    "collapsed": true
   },
   "outputs": [],
   "source": [
    "# 5. Find the nearest dentist to your house.\n",
    "#    Hint: Use Google Maps to find your latitude and Google Places to find the\n",
    "#    dentist. You will also need the rankby property."
   ]
  }
 ],
 "metadata": {
  "kernelspec": {
   "display_name": "PythonData",
   "language": "python",
   "name": "pythondata"
  },
  "language_info": {
   "codemirror_mode": {
    "name": "ipython",
    "version": 3
   },
   "file_extension": ".py",
   "mimetype": "text/x-python",
   "name": "python",
   "nbconvert_exporter": "python",
   "pygments_lexer": "ipython3",
   "version": "3.7.10"
  }
 },
 "nbformat": 4,
 "nbformat_minor": 2
}
