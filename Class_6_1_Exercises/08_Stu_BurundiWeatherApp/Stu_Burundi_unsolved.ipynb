{
 "cells": [
  {
   "cell_type": "code",
   "execution_count": 7,
   "metadata": {},
   "outputs": [],
   "source": [
    "# Dependencies\n",
    "import requests\n",
    "from config import api_key"
   ]
  },
  {
   "cell_type": "code",
   "execution_count": 8,
   "metadata": {},
   "outputs": [
    {
     "data": {
      "text/plain": [
       "{'coord': {'lon': 29.3644, 'lat': -3.3822},\n",
       " 'weather': [{'id': 500,\n",
       "   'main': 'Rain',\n",
       "   'description': 'light rain',\n",
       "   'icon': '10n'}],\n",
       " 'base': 'stations',\n",
       " 'main': {'temp': 21.34,\n",
       "  'feels_like': 21.83,\n",
       "  'temp_min': 21.34,\n",
       "  'temp_max': 21.34,\n",
       "  'pressure': 1012,\n",
       "  'humidity': 88,\n",
       "  'sea_level': 1012,\n",
       "  'grnd_level': 923},\n",
       " 'visibility': 10000,\n",
       " 'wind': {'speed': 1.35, 'deg': 39, 'gust': 1.74},\n",
       " 'rain': {'1h': 0.69},\n",
       " 'clouds': {'all': 99},\n",
       " 'dt': 1638315724,\n",
       " 'sys': {'country': 'BI', 'sunrise': 1638330166, 'sunset': 1638374447},\n",
       " 'timezone': 7200,\n",
       " 'id': 425378,\n",
       " 'name': 'Bujumbura',\n",
       " 'cod': 200}"
      ]
     },
     "execution_count": 8,
     "metadata": {},
     "output_type": "execute_result"
    }
   ],
   "source": [
    "# Build query URL and request your results in Celsius\n",
    "url = \"http://api.openweathermap.org/data/2.5/weather?units=Metric&APPID=\" + api_key\n",
    "# Get weather data\n",
    "bujumbura_url = url + '&q=' + 'bujumbura'\n",
    "bujumbura_weather = requests.get(bujumbura_url).json()\n",
    "bujumbura_weather"
   ]
  },
  {
   "cell_type": "code",
   "execution_count": 9,
   "metadata": {},
   "outputs": [
    {
     "data": {
      "text/plain": [
       "21.34"
      ]
     },
     "execution_count": 9,
     "metadata": {},
     "output_type": "execute_result"
    }
   ],
   "source": [
    "# Get temperature from JSON response\n",
    "temp = bujumbura_weather['main']['temp']\n",
    "temp"
   ]
  },
  {
   "cell_type": "code",
   "execution_count": 10,
   "metadata": {},
   "outputs": [
    {
     "name": "stdout",
     "output_type": "stream",
     "text": [
      "The temperature is (temp) degrees Celcius\n"
     ]
    }
   ],
   "source": [
    "# Report temperature\n",
    "print(f'The temperature is [temp) degrees Celcius')"
   ]
  },
  {
   "cell_type": "code",
   "execution_count": null,
   "metadata": {},
   "outputs": [],
   "source": []
  }
 ],
 "metadata": {
  "kernelspec": {
   "display_name": "Python 3",
   "language": "python",
   "name": "python3"
  },
  "language_info": {
   "codemirror_mode": {
    "name": "ipython",
    "version": 3
   },
   "file_extension": ".py",
   "mimetype": "text/x-python",
   "name": "python",
   "nbconvert_exporter": "python",
   "pygments_lexer": "ipython3",
   "version": "3.8.8"
  },
  "varInspector": {
   "cols": {
    "lenName": 16,
    "lenType": 16,
    "lenVar": 40
   },
   "kernels_config": {
    "python": {
     "delete_cmd_postfix": "",
     "delete_cmd_prefix": "del ",
     "library": "var_list.py",
     "varRefreshCmd": "print(var_dic_list())"
    },
    "r": {
     "delete_cmd_postfix": ") ",
     "delete_cmd_prefix": "rm(",
     "library": "var_list.r",
     "varRefreshCmd": "cat(var_dic_list()) "
    }
   },
   "types_to_exclude": [
    "module",
    "function",
    "builtin_function_or_method",
    "instance",
    "_Feature"
   ],
   "window_display": false
  }
 },
 "nbformat": 4,
 "nbformat_minor": 2
}
