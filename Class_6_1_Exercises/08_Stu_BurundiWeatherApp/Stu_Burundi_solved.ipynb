{
 "cells": [
  {
   "cell_type": "code",
   "execution_count": 1,
   "metadata": {},
   "outputs": [],
   "source": [
    "# Dependencies\n",
    "import requests\n",
    "from config import api_key"
   ]
  },
  {
   "cell_type": "code",
   "execution_count": 2,
   "metadata": {},
   "outputs": [
    {
     "data": {
      "text/plain": [
       "{'coord': {'lon': 29.3644, 'lat': -3.3822},\n",
       " 'weather': [{'id': 500,\n",
       "   'main': 'Rain',\n",
       "   'description': 'light rain',\n",
       "   'icon': '10n'}],\n",
       " 'base': 'stations',\n",
       " 'main': {'temp': 21.56,\n",
       "  'feels_like': 21.96,\n",
       "  'temp_min': 21.56,\n",
       "  'temp_max': 21.56,\n",
       "  'pressure': 1012,\n",
       "  'humidity': 84,\n",
       "  'sea_level': 1012,\n",
       "  'grnd_level': 922},\n",
       " 'visibility': 10000,\n",
       " 'wind': {'speed': 2.32, 'deg': 16, 'gust': 3.3},\n",
       " 'rain': {'1h': 0.13},\n",
       " 'clouds': {'all': 100},\n",
       " 'dt': 1638322966,\n",
       " 'sys': {'country': 'BI', 'sunrise': 1638330166, 'sunset': 1638374447},\n",
       " 'timezone': 7200,\n",
       " 'id': 425378,\n",
       " 'name': 'Bujumbura',\n",
       " 'cod': 200}"
      ]
     },
     "execution_count": 2,
     "metadata": {},
     "output_type": "execute_result"
    }
   ],
   "source": [
    "# Build query URL and request your results in Celsius\n",
    "url = \"http://api.openweathermap.org/data/2.5/weather?units=Metric&APPID=\" + api_key\n",
    "city = 'bujumbura'\n",
    "# Get weather data\n",
    "bujumbura_url = url + '&q=' + city\n",
    "bujumbura_weather = requests.get(bujumbura_url).json()\n",
    "bujumbura_weather"
   ]
  },
  {
   "cell_type": "code",
   "execution_count": 3,
   "metadata": {},
   "outputs": [
    {
     "data": {
      "text/plain": [
       "21.56"
      ]
     },
     "execution_count": 3,
     "metadata": {},
     "output_type": "execute_result"
    }
   ],
   "source": [
    "# Get temperature from JSON response\n",
    "temp = bujumbura_weather['main']['temp']\n",
    "temp"
   ]
  },
  {
   "cell_type": "code",
   "execution_count": 4,
   "metadata": {},
   "outputs": [
    {
     "name": "stdout",
     "output_type": "stream",
     "text": [
      "The temperature is 21.56 degrees Celcius\n"
     ]
    }
   ],
   "source": [
    "# Report temperature\n",
    "print(f'The temperature is {temp} degrees Celcius')"
   ]
  },
  {
   "cell_type": "code",
   "execution_count": 6,
   "metadata": {},
   "outputs": [
    {
     "data": {
      "text/plain": [
       "{'coord': {'lon': 29.3644, 'lat': -3.3822},\n",
       " 'weather': [{'id': 500,\n",
       "   'main': 'Rain',\n",
       "   'description': 'light rain',\n",
       "   'icon': '10n'}],\n",
       " 'base': 'stations',\n",
       " 'main': {'temp': 294.71,\n",
       "  'feels_like': 295.11,\n",
       "  'temp_min': 294.71,\n",
       "  'temp_max': 294.71,\n",
       "  'pressure': 1012,\n",
       "  'humidity': 84,\n",
       "  'sea_level': 1012,\n",
       "  'grnd_level': 922},\n",
       " 'visibility': 10000,\n",
       " 'wind': {'speed': 2.32, 'deg': 16, 'gust': 3.3},\n",
       " 'rain': {'1h': 0.13},\n",
       " 'clouds': {'all': 100},\n",
       " 'dt': 1638323211,\n",
       " 'sys': {'country': 'BI', 'sunrise': 1638330166, 'sunset': 1638374447},\n",
       " 'timezone': 7200,\n",
       " 'id': 425378,\n",
       " 'name': 'Bujumbura',\n",
       " 'cod': 200}"
      ]
     },
     "execution_count": 6,
     "metadata": {},
     "output_type": "execute_result"
    }
   ],
   "source": [
    "# Build query URL and request your results in Celsius\n",
    "units = 'Standard'\n",
    "url = 'http://api.openweathermap.org/data/2.5/weather?units=' + units + '&APPID=' + api_key\n",
    "city = 'bujumbura'\n",
    "# Get weather data\n",
    "bujumbura_url = url + '&q=' + city\n",
    "bujumbura_weather = requests.get(bujumbura_url).json()\n",
    "bujumbura_weather"
   ]
  },
  {
   "cell_type": "code",
   "execution_count": null,
   "metadata": {},
   "outputs": [],
   "source": []
  }
 ],
 "metadata": {
  "kernelspec": {
   "display_name": "Python 3",
   "language": "python",
   "name": "python3"
  },
  "language_info": {
   "codemirror_mode": {
    "name": "ipython",
    "version": 3
   },
   "file_extension": ".py",
   "mimetype": "text/x-python",
   "name": "python",
   "nbconvert_exporter": "python",
   "pygments_lexer": "ipython3",
   "version": "3.8.8"
  },
  "varInspector": {
   "cols": {
    "lenName": 16,
    "lenType": 16,
    "lenVar": 40
   },
   "kernels_config": {
    "python": {
     "delete_cmd_postfix": "",
     "delete_cmd_prefix": "del ",
     "library": "var_list.py",
     "varRefreshCmd": "print(var_dic_list())"
    },
    "r": {
     "delete_cmd_postfix": ") ",
     "delete_cmd_prefix": "rm(",
     "library": "var_list.r",
     "varRefreshCmd": "cat(var_dic_list()) "
    }
   },
   "types_to_exclude": [
    "module",
    "function",
    "builtin_function_or_method",
    "instance",
    "_Feature"
   ],
   "window_display": false
  }
 },
 "nbformat": 4,
 "nbformat_minor": 2
}
