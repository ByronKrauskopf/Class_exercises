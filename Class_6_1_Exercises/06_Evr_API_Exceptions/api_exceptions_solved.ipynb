{
 "cells": [
  {
   "cell_type": "code",
   "execution_count": 1,
   "metadata": {},
   "outputs": [],
   "source": [
    "import json\n",
    "import requests\n",
    "import pandas as pd"
   ]
  },
  {
   "cell_type": "code",
   "execution_count": 2,
   "metadata": {},
   "outputs": [
    {
     "name": "stdout",
     "output_type": "stream",
     "text": [
      "R2-D2 found\n",
      "Darth Vader found\n",
      "Godzilla not found, pass\n",
      "Luke Skywalker found\n",
      "Frodo not found, pass\n",
      "Boba Fett found\n",
      "Iron Man not found, pass\n",
      "Jon Snow not found, pass\n",
      "Han Solo found\n"
     ]
    }
   ],
   "source": [
    "# List of character\n",
    "search_characters = ['R2-D2', 'Darth Vader', 'Godzilla', 'Luke Skywalker', 'Frodo', \\\n",
    "              'Boba Fett', 'Iron Man', 'Jon Snow', 'Han Solo']\n",
    "\n",
    "# Set url for API\n",
    "url = 'https://swapi.dev/api/people/?search='\n",
    "\n",
    "# Set empty lists to hold character's height and mass\n",
    "height = []\n",
    "mass = []\n",
    "character_name = []\n",
    "\n",
    "# Loop through each character and make API request\n",
    "for character in search_characters:\n",
    "    # Create search query, make request and store in json\n",
    "    query_url = url + character\n",
    "    results = requests.get(query_url)\n",
    "    results_json = results.json()\n",
    "    \n",
    "    # Try to grab the height and mass of characters if they are available in the Star Wars API\n",
    "    try:\n",
    "        height.append(results_json['results'][0]['height'])\n",
    "        mass.append(results_json['results'][0]['mass'])\n",
    "        character_name.append(character)\n",
    "        print(f'{character} found')\n",
    "    # Handle exceptions for a character that is not available in the Star Wars API\n",
    "    except:\n",
    "        print(f\"{character} not found, pass\")\n",
    "        pass"
   ]
  },
  {
   "cell_type": "code",
   "execution_count": 8,
   "metadata": {},
   "outputs": [
    {
     "data": {
      "text/html": [
       "<div>\n",
       "<style scoped>\n",
       "    .dataframe tbody tr th:only-of-type {\n",
       "        vertical-align: middle;\n",
       "    }\n",
       "\n",
       "    .dataframe tbody tr th {\n",
       "        vertical-align: top;\n",
       "    }\n",
       "\n",
       "    .dataframe thead th {\n",
       "        text-align: right;\n",
       "    }\n",
       "</style>\n",
       "<table border=\"1\" class=\"dataframe\">\n",
       "  <thead>\n",
       "    <tr style=\"text-align: right;\">\n",
       "      <th></th>\n",
       "      <th>character</th>\n",
       "      <th>height</th>\n",
       "      <th>mass</th>\n",
       "    </tr>\n",
       "  </thead>\n",
       "  <tbody>\n",
       "    <tr>\n",
       "      <th>0</th>\n",
       "      <td>R2-D2</td>\n",
       "      <td>96</td>\n",
       "      <td>32</td>\n",
       "    </tr>\n",
       "    <tr>\n",
       "      <th>1</th>\n",
       "      <td>Darth Vader</td>\n",
       "      <td>202</td>\n",
       "      <td>136</td>\n",
       "    </tr>\n",
       "    <tr>\n",
       "      <th>2</th>\n",
       "      <td>Luke Skywalker</td>\n",
       "      <td>172</td>\n",
       "      <td>77</td>\n",
       "    </tr>\n",
       "    <tr>\n",
       "      <th>3</th>\n",
       "      <td>Boba Fett</td>\n",
       "      <td>183</td>\n",
       "      <td>78.2</td>\n",
       "    </tr>\n",
       "    <tr>\n",
       "      <th>4</th>\n",
       "      <td>Han Solo</td>\n",
       "      <td>180</td>\n",
       "      <td>80</td>\n",
       "    </tr>\n",
       "  </tbody>\n",
       "</table>\n",
       "</div>"
      ],
      "text/plain": [
       "        character height  mass\n",
       "0           R2-D2     96    32\n",
       "1     Darth Vader    202   136\n",
       "2  Luke Skywalker    172    77\n",
       "3       Boba Fett    183  78.2\n",
       "4        Han Solo    180    80"
      ]
     },
     "execution_count": 8,
     "metadata": {},
     "output_type": "execute_result"
    }
   ],
   "source": [
    "# Create DataFrame\n",
    "character_df = pd.DataFrame({'character': character_name,\n",
    "                            'height': height,\n",
    "                            'mass': mass})\n",
    "character_df"
   ]
  },
  {
   "cell_type": "code",
   "execution_count": null,
   "metadata": {},
   "outputs": [],
   "source": []
  },
  {
   "cell_type": "code",
   "execution_count": null,
   "metadata": {},
   "outputs": [],
   "source": []
  }
 ],
 "metadata": {
  "kernelspec": {
   "display_name": "PythonData",
   "language": "python",
   "name": "pythondata"
  },
  "language_info": {
   "codemirror_mode": {
    "name": "ipython",
    "version": 3
   },
   "file_extension": ".py",
   "mimetype": "text/x-python",
   "name": "python",
   "nbconvert_exporter": "python",
   "pygments_lexer": "ipython3",
   "version": "3.7.10"
  },
  "latex_envs": {
   "LaTeX_envs_menu_present": true,
   "autoclose": false,
   "autocomplete": true,
   "bibliofile": "biblio.bib",
   "cite_by": "apalike",
   "current_citInitial": 1,
   "eqLabelWithNumbers": true,
   "eqNumInitial": 1,
   "hotkeys": {
    "equation": "Ctrl-E",
    "itemize": "Ctrl-I"
   },
   "labels_anchors": false,
   "latex_user_defs": false,
   "report_style_numbering": false,
   "user_envs_cfg": false
  }
 },
 "nbformat": 4,
 "nbformat_minor": 2
}
