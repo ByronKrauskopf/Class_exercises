{
 "cells": [
  {
   "cell_type": "code",
   "execution_count": 1,
   "metadata": {},
   "outputs": [],
   "source": [
    "# Dependencies\n",
    "import requests\n",
    "from config import api_key\n",
    "import time\n",
    "\n",
    "url = \"https://api.nytimes.com/svc/search/v2/articlesearch.json?\"\n",
    "\n",
    "# Store a search term\n",
    "query = \"vaccine\"\n",
    "\n",
    "# Search for articles published between a begin and end date, Nov 1, 2021 and Nov 30, 2021\n",
    "begin_date = '20211101'\n",
    "end_date = '20211130'\n",
    "\n",
    "# Build url\n",
    "query_url = url + 'begin_date=' + begin_date + '&end_date=' + end_date + '&q=' + query + '&api-key=' + api_key "
   ]
  },
  {
   "cell_type": "code",
   "execution_count": 2,
   "metadata": {},
   "outputs": [
    {
     "name": "stdout",
     "output_type": "stream",
     "text": [
      "A snippet from the article: The magazine’s Ethicist columnist on weighing religious commitments against civic responsibilities — and more.\n",
      "---------------------------\n",
      "A snippet from the article: When coronavirus vaccines first became available, Uri Bassan, a pharmacist, traveled 19,000 miles bringing shots to people all over New Mexico. Now with booster shots and vaccines for children, he and his team are setting out again.\n",
      "---------------------------\n",
      "A snippet from the article: Thousands in Vienna over the weekend demonstrated against the measures, which include a nationwide lockdown.\n",
      "---------------------------\n",
      "A snippet from the article: Prime Minister Kyriakos Mitsotakis of Greece said those 60 or older who have not gotten their first shot by Jan. 16 would face a monthly fine of 100 euros ($113).\n",
      "---------------------------\n",
      "A snippet from the article: The protests in France’s Caribbean territory, fueled by longstanding social and economic frustrations, grew increasingly violent as protesters burned cars and looted businesses.\n",
      "---------------------------\n",
      "A snippet from the article: Much of South Sudan is under water from flooding induced by climate change and deforestation. Crops and livestock are lost, hunger and malaria are spreading. With so many worries, coronavirus vaccines are a tough sell.\n",
      "---------------------------\n",
      "A snippet from the article: Scientists have developed vaccines for cats and dogs, but vaccinating companion animals is not necessary, experts said.\n",
      "---------------------------\n",
      "A snippet from the article: The country became the first Western democracy to announce that it would require Covid vaccinations for its entire adult population.\n",
      "---------------------------\n",
      "A snippet from the article: The Biden administration will spend billions of dollars on a new plan to combat the pandemic, investing in antiviral pills, rapid tests and manufacturing.\n",
      "---------------------------\n",
      "A snippet from the article: The injunction is another setback for the Biden administration after an appeals court suspended its vaccine mandate for large employers earlier this month.\n",
      "---------------------------\n"
     ]
    }
   ],
   "source": [
    "# Retrieve articles\n",
    "articles = requests.get(query_url).json()\n",
    "articles_list = articles['response']['docs']\n",
    "\n",
    "for article in articles_list:\n",
    "    print(f'A snippet from the article: {article[\"snippet\"]}')\n",
    "    print('---------------------------')"
   ]
  },
  {
   "cell_type": "code",
   "execution_count": 3,
   "metadata": {},
   "outputs": [
    {
     "name": "stdout",
     "output_type": "stream",
     "text": [
      "Your Reading List\n",
      "https://www.nytimes.com/2021/11/30/magazine/religious-exemption-covid-vaccine-ethics.html\n",
      "https://www.nytimes.com/interactive/2021/11/24/multimedia/virus-vaccine-new-mexico-pharmacist.html\n",
      "https://www.nytimes.com/video/world/europe/100000008086569/austria-lockdown-protests-covid-vaccine-mandate.html\n",
      "https://www.nytimes.com/video/world/europe/100000008099394/greece-older-residents-vaccine.html\n",
      "https://www.nytimes.com/video/world/europe/100000008089573/guadeloupe-vaccine-mandate-protest.html\n",
      "https://www.nytimes.com/2021/11/20/world/africa/south-sudan-covid-flooding.html\n",
      "https://www.nytimes.com/2021/11/15/health/coronavirus-vaccine-cats-dogs-pets.html\n",
      "https://www.nytimes.com/video/world/europe/100000008085710/austria-covid-vaccine-mandate-for-all.html\n",
      "https://www.nytimes.com/2021/11/17/us/politics/biden-covid-vaccine-manufacturing.html\n",
      "https://www.nytimes.com/2021/11/29/us/judge-blocks-vaccine-mandate.html\n"
     ]
    }
   ],
   "source": [
    "# Print the web_url of each stored article\n",
    "print(\"Your Reading List\")\n",
    "for article in articles_list:\n",
    "    print(article[\"web_url\"])"
   ]
  },
  {
   "cell_type": "code",
   "execution_count": 4,
   "metadata": {},
   "outputs": [],
   "source": [
    "# BONUS: How would we get 30 results? \n",
    "# HINT: Look up the page query param\n",
    "\n",
    "# Empty list for articles\n",
    "articles_list = []\n",
    "\n",
    "# loop through pages 0-2\n",
    "for page in range(0, 3):\n",
    "    query_url = f\"{url}api-key={api_key}&q={query}&begin_date={begin_date}&end_date={end_date}\"\n",
    "    # create query with page number\n",
    "    query_url = f\"{query_url}&page={str(page)}\"\n",
    "    articles = requests.get(query_url).json()\n",
    "    \n",
    "    # Add a one second interval between queries to stay within API query limits\n",
    "    time.sleep(1)\n",
    "    # loop through the response and append each article to the list\n",
    "    for article in articles[\"response\"][\"docs\"]:\n",
    "        articles_list.append(article)"
   ]
  },
  {
   "cell_type": "code",
   "execution_count": 5,
   "metadata": {},
   "outputs": [
    {
     "name": "stdout",
     "output_type": "stream",
     "text": [
      "The magazine’s Ethicist columnist on weighing religious commitments against civic responsibilities — and more.\n",
      "---------------------------\n",
      "When coronavirus vaccines first became available, Uri Bassan, a pharmacist, traveled 19,000 miles bringing shots to people all over New Mexico. Now with booster shots and vaccines for children, he and his team are setting out again.\n",
      "---------------------------\n",
      "Thousands in Vienna over the weekend demonstrated against the measures, which include a nationwide lockdown.\n",
      "---------------------------\n",
      "Prime Minister Kyriakos Mitsotakis of Greece said those 60 or older who have not gotten their first shot by Jan. 16 would face a monthly fine of 100 euros ($113).\n",
      "---------------------------\n",
      "The protests in France’s Caribbean territory, fueled by longstanding social and economic frustrations, grew increasingly violent as protesters burned cars and looted businesses.\n",
      "---------------------------\n",
      "Much of South Sudan is under water from flooding induced by climate change and deforestation. Crops and livestock are lost, hunger and malaria are spreading. With so many worries, coronavirus vaccines are a tough sell.\n",
      "---------------------------\n",
      "Scientists have developed vaccines for cats and dogs, but vaccinating companion animals is not necessary, experts said.\n",
      "---------------------------\n",
      "The country became the first Western democracy to announce that it would require Covid vaccinations for its entire adult population.\n",
      "---------------------------\n",
      "The Biden administration will spend billions of dollars on a new plan to combat the pandemic, investing in antiviral pills, rapid tests and manufacturing.\n",
      "---------------------------\n",
      "The injunction is another setback for the Biden administration after an appeals court suspended its vaccine mandate for large employers earlier this month.\n",
      "---------------------------\n",
      "It is the latest European nation to announce restrictions on the unvaccinated, as the country tries to stem a surge.\n",
      "---------------------------\n",
      "A strong fourth Covid wave has led to a renewed run on vaccines.\n",
      "---------------------------\n",
      "Passengers will have to show proof of vaccination, recovery from Covid or a negative daily test under a system of random checks.\n",
      "---------------------------\n",
      "Officials also removed a test requirement for eligible travelers re-entering Canada within 72 hours.\n",
      "---------------------------\n",
      "The state says its National Guard members do not need to be vaccinated. Pentagon officials say a failure to follow “valid medical readiness requirements” could “jeopardize” the status of troops.\n",
      "---------------------------\n",
      "Florida lawmakers, at the request of Gov. Ron DeSantis, passed new laws sharply curtailing mask and vaccine mandates. Fringe anti-vaccination views met with little pushback.\n",
      "---------------------------\n",
      "The move adds more than 2.8 million young people to those eligible for a shot.\n",
      "---------------------------\n",
      "The company’s theme park in Florida, Walt Disney World, could have been facing fines after the State Legislature made vaccine requirements illegal.\n",
      "---------------------------\n",
      "Steve Burton and Ingo Rademacher had refused to comply with a Nov. 1 mandate that applied to actors on the long-running daytime drama’s set.\n",
      "---------------------------\n",
      "The Biden administration has called on major companies to help fight the pandemic. Big chains want to get past the holiday staffing crunch first.\n",
      "---------------------------\n",
      "Also known as tris, the compound helps maintain the pH of vaccines, extending shelf life at warmer temperatures.\n",
      "---------------------------\n",
      "A “Frankenstein mix” of mutations raises concerns, but the variant may remain vulnerable to current vaccines. If not, revisions will be necessary.\n",
      "---------------------------\n",
      "Many households with immunocompromised or vulnerable relatives are racing to get Covid shots for their 5-to-11-year-olds — and finally experiencing a long-awaited sense of relief.\n",
      "---------------------------\n",
      "Remaining unvaccinated could cost soldiers promotions, bonuses or even their jobs.\n",
      "---------------------------\n",
      "The multibillion-dollar plan is intended to address immediate needs both overseas and domestically, and to improve preparations for future pandemics.\n",
      "---------------------------\n",
      "As a new wave of Covid infections spreads over Europe, resistance to public health measures is growing, and not just in Austria.\n",
      "---------------------------\n",
      "The protests were largely peaceful, but as dusk fell over the Austrian capital, skirmishes broke out between officers and groups of demonstrators.\n",
      "---------------------------\n",
      "The Omicron variant carries worrisome mutations that may let it evade antibodies, scientists said. But it will take more research to know how it fares against vaccinated people.\n",
      "---------------------------\n",
      "Countries have been paying about $3 to $4 per shot for AstraZeneca’s vaccine under the company’s not-for-profit pricing model.\n",
      "---------------------------\n",
      "A three-judge panel of the U.S. Court of Appeals for the Fifth Circuit held that challengers were likely to succeed in their claim that the mandate was an unlawful overreach.\n",
      "---------------------------\n"
     ]
    }
   ],
   "source": [
    "for article in articles_list:\n",
    "    print(article['snippet'])\n",
    "    print('---------------------------')"
   ]
  }
 ],
 "metadata": {
  "kernelspec": {
   "display_name": "Python 3",
   "language": "python",
   "name": "python3"
  },
  "language_info": {
   "codemirror_mode": {
    "name": "ipython",
    "version": 3
   },
   "file_extension": ".py",
   "mimetype": "text/x-python",
   "name": "python",
   "nbconvert_exporter": "python",
   "pygments_lexer": "ipython3",
   "version": "3.8.8"
  },
  "varInspector": {
   "cols": {
    "lenName": 16,
    "lenType": 16,
    "lenVar": 40
   },
   "kernels_config": {
    "python": {
     "delete_cmd_postfix": "",
     "delete_cmd_prefix": "del ",
     "library": "var_list.py",
     "varRefreshCmd": "print(var_dic_list())"
    },
    "r": {
     "delete_cmd_postfix": ") ",
     "delete_cmd_prefix": "rm(",
     "library": "var_list.r",
     "varRefreshCmd": "cat(var_dic_list()) "
    }
   },
   "types_to_exclude": [
    "module",
    "function",
    "builtin_function_or_method",
    "instance",
    "_Feature"
   ],
   "window_display": false
  }
 },
 "nbformat": 4,
 "nbformat_minor": 2
}
